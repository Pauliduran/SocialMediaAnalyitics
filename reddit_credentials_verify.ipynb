{
 "cells": [
  {
   "cell_type": "code",
   "execution_count": 4,
   "id": "7d1d985c",
   "metadata": {},
   "outputs": [
    {
     "name": "stdout",
     "output_type": "stream",
     "text": [
      "Collecting package metadata (current_repodata.json): ...working... done\n",
      "Solving environment: ...working... done\n",
      "\n",
      "## Package Plan ##\n",
      "\n",
      "  environment location: C:\\Users\\pauli\\anaconda3\n",
      "\n",
      "  added / updated specs:\n",
      "    - praw\n",
      "\n",
      "\n",
      "The following packages will be downloaded:\n",
      "\n",
      "    package                    |            build\n",
      "    ---------------------------|-----------------\n",
      "    praw-7.6.0                 |     pyhd8ed1ab_0         118 KB  conda-forge\n",
      "    prawcore-2.3.0             |     pyhd8ed1ab_0          17 KB  conda-forge\n",
      "    update_checker-0.18.0      |     pyh9f0ad1d_0          10 KB  conda-forge\n",
      "    ------------------------------------------------------------\n",
      "                                           Total:         145 KB\n",
      "\n",
      "The following NEW packages will be INSTALLED:\n",
      "\n",
      "  praw               conda-forge/noarch::praw-7.6.0-pyhd8ed1ab_0\n",
      "  prawcore           conda-forge/noarch::prawcore-2.3.0-pyhd8ed1ab_0\n",
      "  update_checker     conda-forge/noarch::update_checker-0.18.0-pyh9f0ad1d_0\n",
      "\n",
      "\n",
      "\n",
      "Downloading and Extracting Packages\n",
      "\n",
      "praw-7.6.0           | 118 KB    |            |   0% \n",
      "praw-7.6.0           | 118 KB    | #3         |  14% \n",
      "praw-7.6.0           | 118 KB    | ########## | 100% \n",
      "praw-7.6.0           | 118 KB    | ########## | 100% \n",
      "\n",
      "update_checker-0.18. | 10 KB     |            |   0% \n",
      "update_checker-0.18. | 10 KB     | ########## | 100% \n",
      "\n",
      "prawcore-2.3.0       | 17 KB     |            |   0% \n",
      "prawcore-2.3.0       | 17 KB     | ########## | 100% \n",
      "Preparing transaction: ...working... done\n",
      "Verifying transaction: ...working... done\n",
      "Executing transaction: ...working... done\n"
     ]
    }
   ],
   "source": [
    "# For Reddit API interactions:\n",
    "#  install praw package (https://praw.readthedocs.io/en/stable/);\n",
    "# In terminal:\n",
    "#  conda install -c conda-forge praw\n",
    "#\n",
    "# Alternatively, right here in the notebook (uncomment the next two lines and run):\n",
    "import sys\n",
    "!conda install -c conda-forge --yes --prefix {sys.prefix} praw"
   ]
  },
  {
   "cell_type": "code",
   "execution_count": 5,
   "id": "ebebde48",
   "metadata": {},
   "outputs": [],
   "source": [
    "# Save \"config_reddit.py\" file in your working folder:\n",
    "#  https://raw.githubusercontent.com/multidis/hult-social-media-analytics/main/task_reddit/config_reddit.py\n",
    "# (you can also download this file from the course modules)\n",
    "# and edit the values (put your own credentials in that file).\n",
    "#\n",
    "# Collect your Reddit access credentials as described in the course module,\n",
    "#  \"Setting up Reddit API access\" page\n",
    "#\n",
    "# Edit \"config_reddit.py\" entering your information in the respective assignment statements (instead of \"todo\").\n",
    "# Then proceed with the cells below."
   ]
  },
  {
   "cell_type": "code",
   "execution_count": 6,
   "id": "6d9f4bb9",
   "metadata": {},
   "outputs": [],
   "source": [
    "import praw\n",
    "import config_reddit"
   ]
  },
  {
   "cell_type": "code",
   "execution_count": 7,
   "id": "80a2a0de",
   "metadata": {},
   "outputs": [],
   "source": [
    "# establish an API connection\n",
    "reddit = praw.Reddit(user_agent=f\"Exploration script by /u/{config_reddit.user_name}\",\n",
    "                     client_id=config_reddit.app_id,\n",
    "                     client_secret=config_reddit.app_secret)"
   ]
  },
  {
   "cell_type": "code",
   "execution_count": 8,
   "id": "cc1c05e2",
   "metadata": {},
   "outputs": [
    {
     "data": {
      "text/plain": [
       "True"
      ]
     },
     "execution_count": 8,
     "metadata": {},
     "output_type": "execute_result"
    }
   ],
   "source": [
    "# returns True for read-only connection, if everything is configured correctly\n",
    "reddit.read_only"
   ]
  },
  {
   "cell_type": "code",
   "execution_count": null,
   "id": "91a832dc",
   "metadata": {},
   "outputs": [],
   "source": []
  }
 ],
 "metadata": {
  "kernelspec": {
   "display_name": "Python 3 (ipykernel)",
   "language": "python",
   "name": "python3"
  },
  "language_info": {
   "codemirror_mode": {
    "name": "ipython",
    "version": 3
   },
   "file_extension": ".py",
   "mimetype": "text/x-python",
   "name": "python",
   "nbconvert_exporter": "python",
   "pygments_lexer": "ipython3",
   "version": "3.9.12"
  }
 },
 "nbformat": 4,
 "nbformat_minor": 5
}
